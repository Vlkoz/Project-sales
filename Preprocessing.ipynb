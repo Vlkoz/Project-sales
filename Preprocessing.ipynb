{
 "cells": [
  {
   "cell_type": "markdown",
   "metadata": {},
   "source": [
    "Необходимо произвести предобработку данных, чтобы далее построить дашборд в Power BI и получить ясную картину об общих показателях продаж. Также нас интересуют следующие вопросы:\n",
    "\n",
    "* Какой товар был самым популярным в июне 2019 года?\n",
    "* Какой самый эффективный источник трафика был в июле 2019 года?\n",
    "* Какой товар принес больше всего выручки за весь период?\n",
    "* Обратим внимание на закономерности в данных?"
   ]
  },
  {
   "cell_type": "markdown",
   "metadata": {},
   "source": [
    "Описание данных:\n",
    "* orders - данные о заказах\n",
    "* users_utm - информация о клиентах\n",
    "* utms - источники трафика"
   ]
  },
  {
   "cell_type": "code",
   "execution_count": 6,
   "metadata": {},
   "outputs": [],
   "source": [
    "import pandas as pd"
   ]
  },
  {
   "cell_type": "code",
   "execution_count": 7,
   "metadata": {},
   "outputs": [],
   "source": [
    "path_o = 'https://raw.githubusercontent.com/Vlkoz/Project-sales/main/files/orders.xlsx'"
   ]
  },
  {
   "cell_type": "code",
   "execution_count": 8,
   "metadata": {},
   "outputs": [],
   "source": [
    "orders = pd.read_excel(path_o)"
   ]
  },
  {
   "cell_type": "code",
   "execution_count": 9,
   "metadata": {},
   "outputs": [
    {
     "data": {
      "text/html": [
       "<div>\n",
       "<style scoped>\n",
       "    .dataframe tbody tr th:only-of-type {\n",
       "        vertical-align: middle;\n",
       "    }\n",
       "\n",
       "    .dataframe tbody tr th {\n",
       "        vertical-align: top;\n",
       "    }\n",
       "\n",
       "    .dataframe thead th {\n",
       "        text-align: right;\n",
       "    }\n",
       "</style>\n",
       "<table border=\"1\" class=\"dataframe\">\n",
       "  <thead>\n",
       "    <tr style=\"text-align: right;\">\n",
       "      <th></th>\n",
       "      <th>user_id</th>\n",
       "      <th>order_id</th>\n",
       "      <th>created_dt</th>\n",
       "      <th>state</th>\n",
       "      <th>payment_type</th>\n",
       "      <th>product_code</th>\n",
       "      <th>total_amount</th>\n",
       "    </tr>\n",
       "  </thead>\n",
       "  <tbody>\n",
       "    <tr>\n",
       "      <th>0</th>\n",
       "      <td>886561</td>\n",
       "      <td>362881</td>\n",
       "      <td>2018-12-31 21:05:01</td>\n",
       "      <td>completed</td>\n",
       "      <td>комплектующие</td>\n",
       "      <td>компьютерная мышь</td>\n",
       "      <td>390</td>\n",
       "    </tr>\n",
       "    <tr>\n",
       "      <th>1</th>\n",
       "      <td>825081</td>\n",
       "      <td>362883</td>\n",
       "      <td>2018-12-31 21:10:14</td>\n",
       "      <td>completed</td>\n",
       "      <td>комплектующие</td>\n",
       "      <td>компьютерная мышь</td>\n",
       "      <td>390</td>\n",
       "    </tr>\n",
       "    <tr>\n",
       "      <th>2</th>\n",
       "      <td>903169</td>\n",
       "      <td>362885</td>\n",
       "      <td>2018-12-31 21:18:01</td>\n",
       "      <td>cancelled</td>\n",
       "      <td>бытовая техника</td>\n",
       "      <td>водонагреватель</td>\n",
       "      <td>18690</td>\n",
       "    </tr>\n",
       "    <tr>\n",
       "      <th>3</th>\n",
       "      <td>43285</td>\n",
       "      <td>362887</td>\n",
       "      <td>2018-12-31 21:20:01</td>\n",
       "      <td>completed</td>\n",
       "      <td>комплектующие</td>\n",
       "      <td>компьютерная мышь</td>\n",
       "      <td>390</td>\n",
       "    </tr>\n",
       "    <tr>\n",
       "      <th>4</th>\n",
       "      <td>835571</td>\n",
       "      <td>362889</td>\n",
       "      <td>2018-12-31 21:23:52</td>\n",
       "      <td>completed</td>\n",
       "      <td>комплектующие</td>\n",
       "      <td>компьютерная мышь</td>\n",
       "      <td>390</td>\n",
       "    </tr>\n",
       "    <tr>\n",
       "      <th>...</th>\n",
       "      <td>...</td>\n",
       "      <td>...</td>\n",
       "      <td>...</td>\n",
       "      <td>...</td>\n",
       "      <td>...</td>\n",
       "      <td>...</td>\n",
       "      <td>...</td>\n",
       "    </tr>\n",
       "    <tr>\n",
       "      <th>70840</th>\n",
       "      <td>1323087</td>\n",
       "      <td>517839</td>\n",
       "      <td>2019-12-31 18:45:13</td>\n",
       "      <td>completed</td>\n",
       "      <td>комплектующие</td>\n",
       "      <td>колонки</td>\n",
       "      <td>2890</td>\n",
       "    </tr>\n",
       "    <tr>\n",
       "      <th>70841</th>\n",
       "      <td>1323091</td>\n",
       "      <td>517841</td>\n",
       "      <td>2019-12-31 19:10:27</td>\n",
       "      <td>completed</td>\n",
       "      <td>комплектующие</td>\n",
       "      <td>компьютерная мышь</td>\n",
       "      <td>410</td>\n",
       "    </tr>\n",
       "    <tr>\n",
       "      <th>70842</th>\n",
       "      <td>1323091</td>\n",
       "      <td>517843</td>\n",
       "      <td>2019-12-31 19:12:06</td>\n",
       "      <td>cancelled</td>\n",
       "      <td>комплектующие</td>\n",
       "      <td>колонки</td>\n",
       "      <td>2890</td>\n",
       "    </tr>\n",
       "    <tr>\n",
       "      <th>70843</th>\n",
       "      <td>1062561</td>\n",
       "      <td>517845</td>\n",
       "      <td>2019-12-31 19:55:37</td>\n",
       "      <td>completed</td>\n",
       "      <td>комплектующие</td>\n",
       "      <td>компьютерная мышь</td>\n",
       "      <td>590</td>\n",
       "    </tr>\n",
       "    <tr>\n",
       "      <th>70844</th>\n",
       "      <td>72651</td>\n",
       "      <td>517847</td>\n",
       "      <td>2019-12-31 20:46:36</td>\n",
       "      <td>completed</td>\n",
       "      <td>комплектующие</td>\n",
       "      <td>колонки</td>\n",
       "      <td>2700</td>\n",
       "    </tr>\n",
       "  </tbody>\n",
       "</table>\n",
       "<p>70845 rows × 7 columns</p>\n",
       "</div>"
      ],
      "text/plain": [
       "       user_id  order_id          created_dt      state     payment_type  \\\n",
       "0       886561    362881 2018-12-31 21:05:01  completed    комплектующие   \n",
       "1       825081    362883 2018-12-31 21:10:14  completed    комплектующие   \n",
       "2       903169    362885 2018-12-31 21:18:01  cancelled  бытовая техника   \n",
       "3        43285    362887 2018-12-31 21:20:01  completed    комплектующие   \n",
       "4       835571    362889 2018-12-31 21:23:52  completed    комплектующие   \n",
       "...        ...       ...                 ...        ...              ...   \n",
       "70840  1323087    517839 2019-12-31 18:45:13  completed    комплектующие   \n",
       "70841  1323091    517841 2019-12-31 19:10:27  completed    комплектующие   \n",
       "70842  1323091    517843 2019-12-31 19:12:06  cancelled    комплектующие   \n",
       "70843  1062561    517845 2019-12-31 19:55:37  completed    комплектующие   \n",
       "70844    72651    517847 2019-12-31 20:46:36  completed    комплектующие   \n",
       "\n",
       "            product_code  total_amount  \n",
       "0      компьютерная мышь           390  \n",
       "1      компьютерная мышь           390  \n",
       "2        водонагреватель         18690  \n",
       "3      компьютерная мышь           390  \n",
       "4      компьютерная мышь           390  \n",
       "...                  ...           ...  \n",
       "70840            колонки          2890  \n",
       "70841  компьютерная мышь           410  \n",
       "70842            колонки          2890  \n",
       "70843  компьютерная мышь           590  \n",
       "70844            колонки          2700  \n",
       "\n",
       "[70845 rows x 7 columns]"
      ]
     },
     "execution_count": 9,
     "metadata": {},
     "output_type": "execute_result"
    }
   ],
   "source": [
    "orders"
   ]
  },
  {
   "cell_type": "code",
   "execution_count": 10,
   "metadata": {},
   "outputs": [],
   "source": [
    "path_u = 'https://raw.githubusercontent.com/Vlkoz/Project-sales/main/files/users_utm.xlsx'"
   ]
  },
  {
   "cell_type": "code",
   "execution_count": 11,
   "metadata": {},
   "outputs": [],
   "source": [
    "users_utm = pd.read_excel(path_u)"
   ]
  },
  {
   "cell_type": "code",
   "execution_count": 12,
   "metadata": {},
   "outputs": [
    {
     "data": {
      "text/html": [
       "<div>\n",
       "<style scoped>\n",
       "    .dataframe tbody tr th:only-of-type {\n",
       "        vertical-align: middle;\n",
       "    }\n",
       "\n",
       "    .dataframe tbody tr th {\n",
       "        vertical-align: top;\n",
       "    }\n",
       "\n",
       "    .dataframe thead th {\n",
       "        text-align: right;\n",
       "    }\n",
       "</style>\n",
       "<table border=\"1\" class=\"dataframe\">\n",
       "  <thead>\n",
       "    <tr style=\"text-align: right;\">\n",
       "      <th></th>\n",
       "      <th>user_id</th>\n",
       "      <th>utm_id</th>\n",
       "      <th>added_dt</th>\n",
       "    </tr>\n",
       "  </thead>\n",
       "  <tbody>\n",
       "    <tr>\n",
       "      <th>0</th>\n",
       "      <td>1</td>\n",
       "      <td>5409</td>\n",
       "      <td>2019-02-07 12:41:29</td>\n",
       "    </tr>\n",
       "    <tr>\n",
       "      <th>1</th>\n",
       "      <td>1</td>\n",
       "      <td>5445</td>\n",
       "      <td>2019-02-08 16:44:28</td>\n",
       "    </tr>\n",
       "    <tr>\n",
       "      <th>2</th>\n",
       "      <td>1</td>\n",
       "      <td>5503</td>\n",
       "      <td>2019-02-13 17:17:30</td>\n",
       "    </tr>\n",
       "    <tr>\n",
       "      <th>3</th>\n",
       "      <td>1</td>\n",
       "      <td>5537</td>\n",
       "      <td>2019-02-14 19:20:58</td>\n",
       "    </tr>\n",
       "    <tr>\n",
       "      <th>4</th>\n",
       "      <td>1</td>\n",
       "      <td>5571</td>\n",
       "      <td>2019-02-15 16:06:03</td>\n",
       "    </tr>\n",
       "    <tr>\n",
       "      <th>...</th>\n",
       "      <td>...</td>\n",
       "      <td>...</td>\n",
       "      <td>...</td>\n",
       "    </tr>\n",
       "    <tr>\n",
       "      <th>50321</th>\n",
       "      <td>1322917</td>\n",
       "      <td>10361</td>\n",
       "      <td>2019-12-30 20:54:35</td>\n",
       "    </tr>\n",
       "    <tr>\n",
       "      <th>50322</th>\n",
       "      <td>1323069</td>\n",
       "      <td>10437</td>\n",
       "      <td>2019-12-31 17:50:11</td>\n",
       "    </tr>\n",
       "    <tr>\n",
       "      <th>50323</th>\n",
       "      <td>1323073</td>\n",
       "      <td>5687</td>\n",
       "      <td>2019-03-28 19:24:14</td>\n",
       "    </tr>\n",
       "    <tr>\n",
       "      <th>50324</th>\n",
       "      <td>1323091</td>\n",
       "      <td>8847</td>\n",
       "      <td>2019-10-28 12:27:51</td>\n",
       "    </tr>\n",
       "    <tr>\n",
       "      <th>50325</th>\n",
       "      <td>1323091</td>\n",
       "      <td>9239</td>\n",
       "      <td>2019-10-21 18:52:48</td>\n",
       "    </tr>\n",
       "  </tbody>\n",
       "</table>\n",
       "<p>50326 rows × 3 columns</p>\n",
       "</div>"
      ],
      "text/plain": [
       "       user_id  utm_id            added_dt\n",
       "0            1    5409 2019-02-07 12:41:29\n",
       "1            1    5445 2019-02-08 16:44:28\n",
       "2            1    5503 2019-02-13 17:17:30\n",
       "3            1    5537 2019-02-14 19:20:58\n",
       "4            1    5571 2019-02-15 16:06:03\n",
       "...        ...     ...                 ...\n",
       "50321  1322917   10361 2019-12-30 20:54:35\n",
       "50322  1323069   10437 2019-12-31 17:50:11\n",
       "50323  1323073    5687 2019-03-28 19:24:14\n",
       "50324  1323091    8847 2019-10-28 12:27:51\n",
       "50325  1323091    9239 2019-10-21 18:52:48\n",
       "\n",
       "[50326 rows x 3 columns]"
      ]
     },
     "execution_count": 12,
     "metadata": {},
     "output_type": "execute_result"
    }
   ],
   "source": [
    "users_utm"
   ]
  },
  {
   "cell_type": "code",
   "execution_count": 13,
   "metadata": {},
   "outputs": [],
   "source": [
    "path_ut = 'https://raw.githubusercontent.com/Vlkoz/Project-sales/main/files/utms.xlsx'"
   ]
  },
  {
   "cell_type": "code",
   "execution_count": 14,
   "metadata": {},
   "outputs": [],
   "source": [
    "utms = pd.read_excel(path_ut)"
   ]
  },
  {
   "cell_type": "code",
   "execution_count": 15,
   "metadata": {},
   "outputs": [
    {
     "data": {
      "text/html": [
       "<div>\n",
       "<style scoped>\n",
       "    .dataframe tbody tr th:only-of-type {\n",
       "        vertical-align: middle;\n",
       "    }\n",
       "\n",
       "    .dataframe tbody tr th {\n",
       "        vertical-align: top;\n",
       "    }\n",
       "\n",
       "    .dataframe thead th {\n",
       "        text-align: right;\n",
       "    }\n",
       "</style>\n",
       "<table border=\"1\" class=\"dataframe\">\n",
       "  <thead>\n",
       "    <tr style=\"text-align: right;\">\n",
       "      <th></th>\n",
       "      <th>utm_id</th>\n",
       "      <th>utm_source</th>\n",
       "      <th>utm_medium</th>\n",
       "      <th>utm_campaign</th>\n",
       "    </tr>\n",
       "  </thead>\n",
       "  <tbody>\n",
       "    <tr>\n",
       "      <th>0</th>\n",
       "      <td>9</td>\n",
       "      <td>Месячная рассылка</td>\n",
       "      <td>email</td>\n",
       "      <td>msk_brand_607</td>\n",
       "    </tr>\n",
       "    <tr>\n",
       "      <th>1</th>\n",
       "      <td>29</td>\n",
       "      <td>Месячная рассылка</td>\n",
       "      <td>email</td>\n",
       "      <td>regions_brand_695</td>\n",
       "    </tr>\n",
       "    <tr>\n",
       "      <th>2</th>\n",
       "      <td>31</td>\n",
       "      <td>Месячная рассылка</td>\n",
       "      <td>email</td>\n",
       "      <td>spb_ret_635</td>\n",
       "    </tr>\n",
       "    <tr>\n",
       "      <th>3</th>\n",
       "      <td>33</td>\n",
       "      <td>Полезная рассылка</td>\n",
       "      <td>email</td>\n",
       "      <td>spb_brand_45</td>\n",
       "    </tr>\n",
       "    <tr>\n",
       "      <th>4</th>\n",
       "      <td>39</td>\n",
       "      <td>Месячная рассылка</td>\n",
       "      <td>email</td>\n",
       "      <td>regions_brand_412</td>\n",
       "    </tr>\n",
       "    <tr>\n",
       "      <th>...</th>\n",
       "      <td>...</td>\n",
       "      <td>...</td>\n",
       "      <td>...</td>\n",
       "      <td>...</td>\n",
       "    </tr>\n",
       "    <tr>\n",
       "      <th>2842</th>\n",
       "      <td>10447</td>\n",
       "      <td>facebook</td>\n",
       "      <td>social</td>\n",
       "      <td>msk_brand_289</td>\n",
       "    </tr>\n",
       "    <tr>\n",
       "      <th>2843</th>\n",
       "      <td>10449</td>\n",
       "      <td>newsletter</td>\n",
       "      <td>email</td>\n",
       "      <td>spb_acc_244</td>\n",
       "    </tr>\n",
       "    <tr>\n",
       "      <th>2844</th>\n",
       "      <td>10457</td>\n",
       "      <td>telegram</td>\n",
       "      <td>social</td>\n",
       "      <td>msk_acc_575</td>\n",
       "    </tr>\n",
       "    <tr>\n",
       "      <th>2845</th>\n",
       "      <td>10461</td>\n",
       "      <td>mytarget</td>\n",
       "      <td>cpc</td>\n",
       "      <td>regions_ret_332</td>\n",
       "    </tr>\n",
       "    <tr>\n",
       "      <th>2846</th>\n",
       "      <td>11063</td>\n",
       "      <td>twitter</td>\n",
       "      <td>social</td>\n",
       "      <td>regions_brand_306</td>\n",
       "    </tr>\n",
       "  </tbody>\n",
       "</table>\n",
       "<p>2847 rows × 4 columns</p>\n",
       "</div>"
      ],
      "text/plain": [
       "      utm_id         utm_source utm_medium       utm_campaign\n",
       "0          9  Месячная рассылка      email      msk_brand_607\n",
       "1         29  Месячная рассылка      email  regions_brand_695\n",
       "2         31  Месячная рассылка      email        spb_ret_635\n",
       "3         33  Полезная рассылка      email       spb_brand_45\n",
       "4         39  Месячная рассылка      email  regions_brand_412\n",
       "...      ...                ...        ...                ...\n",
       "2842   10447           facebook     social      msk_brand_289\n",
       "2843   10449         newsletter      email        spb_acc_244\n",
       "2844   10457           telegram     social        msk_acc_575\n",
       "2845   10461           mytarget        cpc    regions_ret_332\n",
       "2846   11063            twitter     social  regions_brand_306\n",
       "\n",
       "[2847 rows x 4 columns]"
      ]
     },
     "execution_count": 15,
     "metadata": {},
     "output_type": "execute_result"
    }
   ],
   "source": [
    "utms"
   ]
  },
  {
   "cell_type": "markdown",
   "metadata": {},
   "source": [
    "Посмотрим уникальные значения в источниках трафика"
   ]
  },
  {
   "cell_type": "code",
   "execution_count": 16,
   "metadata": {},
   "outputs": [
    {
     "data": {
      "text/plain": [
       "array(['Месячная рассылка', 'Полезная рассылка',\n",
       "       'html academy newsletter', 'vk.com', 'google.com', 'htmlbook',\n",
       "       'openedu', 'css-live.ru', 'yandex.ru', 'viber', 'facebook.com',\n",
       "       'relap', 'picodi.com', 'article', 'youtube.com', 'youtube',\n",
       "       'typograf', 'month_sub', 'vk_com', 'theory', 'yandex', 'pedsovet',\n",
       "       'plus.google.com', 'puzzle', 'twitter.com', 'google', 'newtonew',\n",
       "       'twitter', 'vk_repost', 'twit_repost', 'tp', 't.me', 'mytarget',\n",
       "       'te-st', 'fbliga', 'theq', 'telegram', 'facebook', nan, 'fb',\n",
       "       'curators_answer_yt', 'curators_answer_vk', 'rtk', 'yo',\n",
       "       'odnoklassniki', 'vk', 'blog', 'referral', 'courses', 'rukodi.ru',\n",
       "       'php', 'profession', 'networks', 'quiz', 'vkontakte', 'f',\n",
       "       'faceboohttps://tml.io/5twt9k', 'moikrug.ru', 'newsletter',\n",
       "       'freelance', 'partner', 'inst', 'vc', 'tg', 'hh', 'ok', 'skyeng',\n",
       "       'crm', 'instagram', 'slack', 'brodude', 'myquiz', 'trigger_exp',\n",
       "       'ig', 'mt', 'notification', 'fb_ig', 'checkroi.ru', 'podcast',\n",
       "       'ws'], dtype=object)"
      ]
     },
     "execution_count": 16,
     "metadata": {},
     "output_type": "execute_result"
    }
   ],
   "source": [
    "utms.utm_source.unique()"
   ]
  },
  {
   "cell_type": "markdown",
   "metadata": {},
   "source": [
    "Схлопнем повторы по следующим источникам трафика: \n",
    "* vk \n",
    "* google\n",
    "* yandex\n",
    "* facebook\n",
    "* youtube\n",
    "* twitter\n",
    "* telegram\n",
    "* odnoklassniki\n",
    "* instagram"
   ]
  },
  {
   "cell_type": "code",
   "execution_count": 17,
   "metadata": {},
   "outputs": [],
   "source": [
    "utms.utm_source = utms.utm_source.replace({'youtube': 'youtube.com', 'vk_com': 'vk.com', 'yandex': 'yandex.ru', 'google': 'google.com', 'twitter': 'twitter.com', 't.me': 'telegram', 'facebook': 'facebook.com', 'fb': 'facebook.com', 'vk': 'vk.com', 'vkontakte': 'vk.com', 'faceboohttps://tml.io/5twt9k': 'facebook.com', 'inst': 'instagram', 'tg': 'telegram', 'ok': 'odnoklassniki', 'ig': 'instagram', 'fb_ig': 'instagram'})\n"
   ]
  },
  {
   "cell_type": "code",
   "execution_count": 18,
   "metadata": {},
   "outputs": [
    {
     "data": {
      "text/plain": [
       "array(['Месячная рассылка', 'Полезная рассылка',\n",
       "       'html academy newsletter', 'vk.com', 'google.com', 'htmlbook',\n",
       "       'openedu', 'css-live.ru', 'yandex.ru', 'viber', 'facebook.com',\n",
       "       'relap', 'picodi.com', 'article', 'youtube.com', 'typograf',\n",
       "       'month_sub', 'theory', 'pedsovet', 'plus.google.com', 'puzzle',\n",
       "       'twitter.com', 'newtonew', 'vk_repost', 'twit_repost', 'tp',\n",
       "       'telegram', 'mytarget', 'te-st', 'fbliga', 'theq', nan,\n",
       "       'curators_answer_yt', 'curators_answer_vk', 'rtk', 'yo',\n",
       "       'odnoklassniki', 'blog', 'referral', 'courses', 'rukodi.ru', 'php',\n",
       "       'profession', 'networks', 'quiz', 'f', 'moikrug.ru', 'newsletter',\n",
       "       'freelance', 'partner', 'instagram', 'vc', 'hh', 'skyeng', 'crm',\n",
       "       'slack', 'brodude', 'myquiz', 'trigger_exp', 'mt', 'notification',\n",
       "       'checkroi.ru', 'podcast', 'ws'], dtype=object)"
      ]
     },
     "execution_count": 18,
     "metadata": {},
     "output_type": "execute_result"
    }
   ],
   "source": [
    "utms.utm_source.unique()"
   ]
  },
  {
   "cell_type": "markdown",
   "metadata": {},
   "source": [
    "Пустые значения заменим на 'undefined_source'"
   ]
  },
  {
   "cell_type": "code",
   "execution_count": 19,
   "metadata": {},
   "outputs": [],
   "source": [
    "utms.utm_source = utms.utm_source.fillna('Undefined')"
   ]
  },
  {
   "cell_type": "markdown",
   "metadata": {},
   "source": [
    "В utm_medium также заменим пустые значения на 'undefined_medium'"
   ]
  },
  {
   "cell_type": "code",
   "execution_count": 20,
   "metadata": {},
   "outputs": [],
   "source": [
    "utms.utm_medium = utms.utm_medium.fillna('Undefined')"
   ]
  },
  {
   "cell_type": "code",
   "execution_count": 21,
   "metadata": {},
   "outputs": [
    {
     "data": {
      "text/plain": [
       "array(['email', 'cpc', 'social', 'Undefined', 'tproger', 'blog', 'vk.com',\n",
       "       'cpm', 'chat', 'referral', 'banner', 'reg.ru', 'hwdesigner',\n",
       "       'website', 'newyear', 'hwbdesigner', 'site', 'haudi-ho', 'article',\n",
       "       'event', 'online-courses', 'pro-hi-tech', 'gameone', 'goshadudar',\n",
       "       'wdb', 'topkot', 'answer', 'video', 'live', 'youtube', 'test',\n",
       "       'twitter', 'telegram', 'facebook', 'vk', 'cpс', 'social_post',\n",
       "       'cp?', 'moikrug', 'vacancy', 'rbc', 'study', 'progeri', 'special',\n",
       "       'rsi', 'checkroi.ru', 'podcast'], dtype=object)"
      ]
     },
     "execution_count": 21,
     "metadata": {},
     "output_type": "execute_result"
    }
   ],
   "source": [
    "utms.utm_medium.unique()"
   ]
  },
  {
   "cell_type": "markdown",
   "metadata": {},
   "source": [
    "Схлопнем повторы по utm_medium"
   ]
  },
  {
   "cell_type": "code",
   "execution_count": 22,
   "metadata": {},
   "outputs": [],
   "source": [
    "utms.utm_medium = utms.utm_medium.replace({'cpc': 'cpc', 'vk': 'vk.com', 'cpс': 'cpc'})"
   ]
  },
  {
   "cell_type": "markdown",
   "metadata": {},
   "source": [
    "Проверим, что в таблицах нет пустых значений"
   ]
  },
  {
   "cell_type": "code",
   "execution_count": 23,
   "metadata": {},
   "outputs": [
    {
     "data": {
      "text/plain": [
       "user_id         0\n",
       "order_id        0\n",
       "created_dt      0\n",
       "state           0\n",
       "payment_type    0\n",
       "product_code    0\n",
       "total_amount    0\n",
       "dtype: int64"
      ]
     },
     "execution_count": 23,
     "metadata": {},
     "output_type": "execute_result"
    }
   ],
   "source": [
    "orders.isnull().sum()"
   ]
  },
  {
   "cell_type": "code",
   "execution_count": 24,
   "metadata": {},
   "outputs": [
    {
     "data": {
      "text/plain": [
       "user_id     0\n",
       "utm_id      0\n",
       "added_dt    0\n",
       "dtype: int64"
      ]
     },
     "execution_count": 24,
     "metadata": {},
     "output_type": "execute_result"
    }
   ],
   "source": [
    "users_utm.isnull().sum()"
   ]
  },
  {
   "cell_type": "code",
   "execution_count": 25,
   "metadata": {},
   "outputs": [
    {
     "data": {
      "text/plain": [
       "utm_id          0\n",
       "utm_source      0\n",
       "utm_medium      0\n",
       "utm_campaign    0\n",
       "dtype: int64"
      ]
     },
     "execution_count": 25,
     "metadata": {},
     "output_type": "execute_result"
    }
   ],
   "source": [
    "utms.isnull().sum()"
   ]
  },
  {
   "cell_type": "markdown",
   "metadata": {},
   "source": [
    "Проверим типы данных"
   ]
  },
  {
   "cell_type": "code",
   "execution_count": 26,
   "metadata": {},
   "outputs": [
    {
     "data": {
      "text/plain": [
       "user_id                  int64\n",
       "order_id                 int64\n",
       "created_dt      datetime64[ns]\n",
       "state                   object\n",
       "payment_type            object\n",
       "product_code            object\n",
       "total_amount             int64\n",
       "dtype: object"
      ]
     },
     "execution_count": 26,
     "metadata": {},
     "output_type": "execute_result"
    }
   ],
   "source": [
    "orders.dtypes"
   ]
  },
  {
   "cell_type": "code",
   "execution_count": 27,
   "metadata": {},
   "outputs": [
    {
     "data": {
      "text/plain": [
       "user_id              int64\n",
       "utm_id               int64\n",
       "added_dt    datetime64[ns]\n",
       "dtype: object"
      ]
     },
     "execution_count": 27,
     "metadata": {},
     "output_type": "execute_result"
    }
   ],
   "source": [
    "users_utm.dtypes"
   ]
  },
  {
   "cell_type": "code",
   "execution_count": 28,
   "metadata": {},
   "outputs": [
    {
     "data": {
      "text/plain": [
       "utm_id           int64\n",
       "utm_source      object\n",
       "utm_medium      object\n",
       "utm_campaign    object\n",
       "dtype: object"
      ]
     },
     "execution_count": 28,
     "metadata": {},
     "output_type": "execute_result"
    }
   ],
   "source": [
    "utms.dtypes"
   ]
  },
  {
   "cell_type": "markdown",
   "metadata": {},
   "source": [
    "Типы данных корректны, пропуски отсутствуют\n",
    "\n",
    "Можно приступать к объединению таблиц для последующей визуализации в Power BI"
   ]
  },
  {
   "cell_type": "code",
   "execution_count": 29,
   "metadata": {},
   "outputs": [],
   "source": [
    "users_utm_full = users_utm.merge(utms, on = 'utm_id', how = 'left')"
   ]
  },
  {
   "cell_type": "code",
   "execution_count": 30,
   "metadata": {},
   "outputs": [
    {
     "data": {
      "text/html": [
       "<div>\n",
       "<style scoped>\n",
       "    .dataframe tbody tr th:only-of-type {\n",
       "        vertical-align: middle;\n",
       "    }\n",
       "\n",
       "    .dataframe tbody tr th {\n",
       "        vertical-align: top;\n",
       "    }\n",
       "\n",
       "    .dataframe thead th {\n",
       "        text-align: right;\n",
       "    }\n",
       "</style>\n",
       "<table border=\"1\" class=\"dataframe\">\n",
       "  <thead>\n",
       "    <tr style=\"text-align: right;\">\n",
       "      <th></th>\n",
       "      <th>user_id</th>\n",
       "      <th>utm_id</th>\n",
       "      <th>added_dt</th>\n",
       "      <th>utm_source</th>\n",
       "      <th>utm_medium</th>\n",
       "      <th>utm_campaign</th>\n",
       "    </tr>\n",
       "  </thead>\n",
       "  <tbody>\n",
       "    <tr>\n",
       "      <th>0</th>\n",
       "      <td>1</td>\n",
       "      <td>5409</td>\n",
       "      <td>2019-02-07 12:41:29</td>\n",
       "      <td>vk.com</td>\n",
       "      <td>social</td>\n",
       "      <td>regions_ret_657</td>\n",
       "    </tr>\n",
       "    <tr>\n",
       "      <th>1</th>\n",
       "      <td>1</td>\n",
       "      <td>5445</td>\n",
       "      <td>2019-02-08 16:44:28</td>\n",
       "      <td>twitter.com</td>\n",
       "      <td>social</td>\n",
       "      <td>spb_acc_595</td>\n",
       "    </tr>\n",
       "    <tr>\n",
       "      <th>2</th>\n",
       "      <td>1</td>\n",
       "      <td>5503</td>\n",
       "      <td>2019-02-13 17:17:30</td>\n",
       "      <td>facebook.com</td>\n",
       "      <td>social</td>\n",
       "      <td>regions_acc_90</td>\n",
       "    </tr>\n",
       "    <tr>\n",
       "      <th>3</th>\n",
       "      <td>1</td>\n",
       "      <td>5537</td>\n",
       "      <td>2019-02-14 19:20:58</td>\n",
       "      <td>twitter.com</td>\n",
       "      <td>social</td>\n",
       "      <td>regions_brand_254</td>\n",
       "    </tr>\n",
       "    <tr>\n",
       "      <th>4</th>\n",
       "      <td>1</td>\n",
       "      <td>5571</td>\n",
       "      <td>2019-02-15 16:06:03</td>\n",
       "      <td>twitter.com</td>\n",
       "      <td>social</td>\n",
       "      <td>regions_ret_776</td>\n",
       "    </tr>\n",
       "    <tr>\n",
       "      <th>...</th>\n",
       "      <td>...</td>\n",
       "      <td>...</td>\n",
       "      <td>...</td>\n",
       "      <td>...</td>\n",
       "      <td>...</td>\n",
       "      <td>...</td>\n",
       "    </tr>\n",
       "    <tr>\n",
       "      <th>50321</th>\n",
       "      <td>1322917</td>\n",
       "      <td>10361</td>\n",
       "      <td>2019-12-30 20:54:35</td>\n",
       "      <td>yandex.ru</td>\n",
       "      <td>cpc</td>\n",
       "      <td>regions_acc_234</td>\n",
       "    </tr>\n",
       "    <tr>\n",
       "      <th>50322</th>\n",
       "      <td>1323069</td>\n",
       "      <td>10437</td>\n",
       "      <td>2019-12-31 17:50:11</td>\n",
       "      <td>htmlbook</td>\n",
       "      <td>blog</td>\n",
       "      <td>spb_ret_74</td>\n",
       "    </tr>\n",
       "    <tr>\n",
       "      <th>50323</th>\n",
       "      <td>1323073</td>\n",
       "      <td>5687</td>\n",
       "      <td>2019-03-28 19:24:14</td>\n",
       "      <td>mytarget</td>\n",
       "      <td>cpc</td>\n",
       "      <td>msk_acc_133</td>\n",
       "    </tr>\n",
       "    <tr>\n",
       "      <th>50324</th>\n",
       "      <td>1323091</td>\n",
       "      <td>8847</td>\n",
       "      <td>2019-10-28 12:27:51</td>\n",
       "      <td>google.com</td>\n",
       "      <td>cpc</td>\n",
       "      <td>regions_brand_388</td>\n",
       "    </tr>\n",
       "    <tr>\n",
       "      <th>50325</th>\n",
       "      <td>1323091</td>\n",
       "      <td>9239</td>\n",
       "      <td>2019-10-21 18:52:48</td>\n",
       "      <td>google.com</td>\n",
       "      <td>cpc</td>\n",
       "      <td>regions_brand_387</td>\n",
       "    </tr>\n",
       "  </tbody>\n",
       "</table>\n",
       "<p>50326 rows × 6 columns</p>\n",
       "</div>"
      ],
      "text/plain": [
       "       user_id  utm_id            added_dt    utm_source utm_medium  \\\n",
       "0            1    5409 2019-02-07 12:41:29        vk.com     social   \n",
       "1            1    5445 2019-02-08 16:44:28   twitter.com     social   \n",
       "2            1    5503 2019-02-13 17:17:30  facebook.com     social   \n",
       "3            1    5537 2019-02-14 19:20:58   twitter.com     social   \n",
       "4            1    5571 2019-02-15 16:06:03   twitter.com     social   \n",
       "...        ...     ...                 ...           ...        ...   \n",
       "50321  1322917   10361 2019-12-30 20:54:35     yandex.ru        cpc   \n",
       "50322  1323069   10437 2019-12-31 17:50:11      htmlbook       blog   \n",
       "50323  1323073    5687 2019-03-28 19:24:14      mytarget        cpc   \n",
       "50324  1323091    8847 2019-10-28 12:27:51    google.com        cpc   \n",
       "50325  1323091    9239 2019-10-21 18:52:48    google.com        cpc   \n",
       "\n",
       "            utm_campaign  \n",
       "0        regions_ret_657  \n",
       "1            spb_acc_595  \n",
       "2         regions_acc_90  \n",
       "3      regions_brand_254  \n",
       "4        regions_ret_776  \n",
       "...                  ...  \n",
       "50321    regions_acc_234  \n",
       "50322         spb_ret_74  \n",
       "50323        msk_acc_133  \n",
       "50324  regions_brand_388  \n",
       "50325  regions_brand_387  \n",
       "\n",
       "[50326 rows x 6 columns]"
      ]
     },
     "execution_count": 30,
     "metadata": {},
     "output_type": "execute_result"
    }
   ],
   "source": [
    "users_utm_full"
   ]
  },
  {
   "cell_type": "code",
   "execution_count": 31,
   "metadata": {},
   "outputs": [],
   "source": [
    "users_utm_full = users_utm_full.groupby('user_id') \\\n",
    "    .agg({'added_dt': 'max'}) \\\n",
    "    .reset_index() \\\n",
    "    .merge(users_utm_full, on = ['user_id', 'added_dt'])"
   ]
  },
  {
   "cell_type": "code",
   "execution_count": 32,
   "metadata": {},
   "outputs": [],
   "source": [
    "orders_full = orders.merge(users_utm_full, on = 'user_id', how= 'left')"
   ]
  },
  {
   "cell_type": "code",
   "execution_count": 33,
   "metadata": {
    "scrolled": true
   },
   "outputs": [
    {
     "data": {
      "text/html": [
       "<div>\n",
       "<style scoped>\n",
       "    .dataframe tbody tr th:only-of-type {\n",
       "        vertical-align: middle;\n",
       "    }\n",
       "\n",
       "    .dataframe tbody tr th {\n",
       "        vertical-align: top;\n",
       "    }\n",
       "\n",
       "    .dataframe thead th {\n",
       "        text-align: right;\n",
       "    }\n",
       "</style>\n",
       "<table border=\"1\" class=\"dataframe\">\n",
       "  <thead>\n",
       "    <tr style=\"text-align: right;\">\n",
       "      <th></th>\n",
       "      <th>user_id</th>\n",
       "      <th>order_id</th>\n",
       "      <th>created_dt</th>\n",
       "      <th>state</th>\n",
       "      <th>payment_type</th>\n",
       "      <th>product_code</th>\n",
       "      <th>total_amount</th>\n",
       "      <th>added_dt</th>\n",
       "      <th>utm_id</th>\n",
       "      <th>utm_source</th>\n",
       "      <th>utm_medium</th>\n",
       "      <th>utm_campaign</th>\n",
       "    </tr>\n",
       "  </thead>\n",
       "  <tbody>\n",
       "    <tr>\n",
       "      <th>0</th>\n",
       "      <td>886561</td>\n",
       "      <td>362881</td>\n",
       "      <td>2018-12-31 21:05:01</td>\n",
       "      <td>completed</td>\n",
       "      <td>комплектующие</td>\n",
       "      <td>компьютерная мышь</td>\n",
       "      <td>390</td>\n",
       "      <td>NaT</td>\n",
       "      <td>NaN</td>\n",
       "      <td>NaN</td>\n",
       "      <td>NaN</td>\n",
       "      <td>NaN</td>\n",
       "    </tr>\n",
       "    <tr>\n",
       "      <th>1</th>\n",
       "      <td>825081</td>\n",
       "      <td>362883</td>\n",
       "      <td>2018-12-31 21:10:14</td>\n",
       "      <td>completed</td>\n",
       "      <td>комплектующие</td>\n",
       "      <td>компьютерная мышь</td>\n",
       "      <td>390</td>\n",
       "      <td>2019-12-11 13:18:17</td>\n",
       "      <td>9543.0</td>\n",
       "      <td>yandex.ru</td>\n",
       "      <td>cpc</td>\n",
       "      <td>regions_acc_125</td>\n",
       "    </tr>\n",
       "    <tr>\n",
       "      <th>2</th>\n",
       "      <td>903169</td>\n",
       "      <td>362885</td>\n",
       "      <td>2018-12-31 21:18:01</td>\n",
       "      <td>cancelled</td>\n",
       "      <td>бытовая техника</td>\n",
       "      <td>водонагреватель</td>\n",
       "      <td>18690</td>\n",
       "      <td>2019-12-31 14:45:38</td>\n",
       "      <td>10449.0</td>\n",
       "      <td>newsletter</td>\n",
       "      <td>email</td>\n",
       "      <td>spb_acc_244</td>\n",
       "    </tr>\n",
       "    <tr>\n",
       "      <th>3</th>\n",
       "      <td>43285</td>\n",
       "      <td>362887</td>\n",
       "      <td>2018-12-31 21:20:01</td>\n",
       "      <td>completed</td>\n",
       "      <td>комплектующие</td>\n",
       "      <td>компьютерная мышь</td>\n",
       "      <td>390</td>\n",
       "      <td>NaT</td>\n",
       "      <td>NaN</td>\n",
       "      <td>NaN</td>\n",
       "      <td>NaN</td>\n",
       "      <td>NaN</td>\n",
       "    </tr>\n",
       "    <tr>\n",
       "      <th>4</th>\n",
       "      <td>835571</td>\n",
       "      <td>362889</td>\n",
       "      <td>2018-12-31 21:23:52</td>\n",
       "      <td>completed</td>\n",
       "      <td>комплектующие</td>\n",
       "      <td>компьютерная мышь</td>\n",
       "      <td>390</td>\n",
       "      <td>NaT</td>\n",
       "      <td>NaN</td>\n",
       "      <td>NaN</td>\n",
       "      <td>NaN</td>\n",
       "      <td>NaN</td>\n",
       "    </tr>\n",
       "    <tr>\n",
       "      <th>...</th>\n",
       "      <td>...</td>\n",
       "      <td>...</td>\n",
       "      <td>...</td>\n",
       "      <td>...</td>\n",
       "      <td>...</td>\n",
       "      <td>...</td>\n",
       "      <td>...</td>\n",
       "      <td>...</td>\n",
       "      <td>...</td>\n",
       "      <td>...</td>\n",
       "      <td>...</td>\n",
       "      <td>...</td>\n",
       "    </tr>\n",
       "    <tr>\n",
       "      <th>70872</th>\n",
       "      <td>1323087</td>\n",
       "      <td>517839</td>\n",
       "      <td>2019-12-31 18:45:13</td>\n",
       "      <td>completed</td>\n",
       "      <td>комплектующие</td>\n",
       "      <td>колонки</td>\n",
       "      <td>2890</td>\n",
       "      <td>NaT</td>\n",
       "      <td>NaN</td>\n",
       "      <td>NaN</td>\n",
       "      <td>NaN</td>\n",
       "      <td>NaN</td>\n",
       "    </tr>\n",
       "    <tr>\n",
       "      <th>70873</th>\n",
       "      <td>1323091</td>\n",
       "      <td>517841</td>\n",
       "      <td>2019-12-31 19:10:27</td>\n",
       "      <td>completed</td>\n",
       "      <td>комплектующие</td>\n",
       "      <td>компьютерная мышь</td>\n",
       "      <td>410</td>\n",
       "      <td>2019-10-28 12:27:51</td>\n",
       "      <td>8847.0</td>\n",
       "      <td>google.com</td>\n",
       "      <td>cpc</td>\n",
       "      <td>regions_brand_388</td>\n",
       "    </tr>\n",
       "    <tr>\n",
       "      <th>70874</th>\n",
       "      <td>1323091</td>\n",
       "      <td>517843</td>\n",
       "      <td>2019-12-31 19:12:06</td>\n",
       "      <td>cancelled</td>\n",
       "      <td>комплектующие</td>\n",
       "      <td>колонки</td>\n",
       "      <td>2890</td>\n",
       "      <td>2019-10-28 12:27:51</td>\n",
       "      <td>8847.0</td>\n",
       "      <td>google.com</td>\n",
       "      <td>cpc</td>\n",
       "      <td>regions_brand_388</td>\n",
       "    </tr>\n",
       "    <tr>\n",
       "      <th>70875</th>\n",
       "      <td>1062561</td>\n",
       "      <td>517845</td>\n",
       "      <td>2019-12-31 19:55:37</td>\n",
       "      <td>completed</td>\n",
       "      <td>комплектующие</td>\n",
       "      <td>компьютерная мышь</td>\n",
       "      <td>590</td>\n",
       "      <td>NaT</td>\n",
       "      <td>NaN</td>\n",
       "      <td>NaN</td>\n",
       "      <td>NaN</td>\n",
       "      <td>NaN</td>\n",
       "    </tr>\n",
       "    <tr>\n",
       "      <th>70876</th>\n",
       "      <td>72651</td>\n",
       "      <td>517847</td>\n",
       "      <td>2019-12-31 20:46:36</td>\n",
       "      <td>completed</td>\n",
       "      <td>комплектующие</td>\n",
       "      <td>колонки</td>\n",
       "      <td>2700</td>\n",
       "      <td>NaT</td>\n",
       "      <td>NaN</td>\n",
       "      <td>NaN</td>\n",
       "      <td>NaN</td>\n",
       "      <td>NaN</td>\n",
       "    </tr>\n",
       "  </tbody>\n",
       "</table>\n",
       "<p>70877 rows × 12 columns</p>\n",
       "</div>"
      ],
      "text/plain": [
       "       user_id  order_id          created_dt      state     payment_type  \\\n",
       "0       886561    362881 2018-12-31 21:05:01  completed    комплектующие   \n",
       "1       825081    362883 2018-12-31 21:10:14  completed    комплектующие   \n",
       "2       903169    362885 2018-12-31 21:18:01  cancelled  бытовая техника   \n",
       "3        43285    362887 2018-12-31 21:20:01  completed    комплектующие   \n",
       "4       835571    362889 2018-12-31 21:23:52  completed    комплектующие   \n",
       "...        ...       ...                 ...        ...              ...   \n",
       "70872  1323087    517839 2019-12-31 18:45:13  completed    комплектующие   \n",
       "70873  1323091    517841 2019-12-31 19:10:27  completed    комплектующие   \n",
       "70874  1323091    517843 2019-12-31 19:12:06  cancelled    комплектующие   \n",
       "70875  1062561    517845 2019-12-31 19:55:37  completed    комплектующие   \n",
       "70876    72651    517847 2019-12-31 20:46:36  completed    комплектующие   \n",
       "\n",
       "            product_code  total_amount            added_dt   utm_id  \\\n",
       "0      компьютерная мышь           390                 NaT      NaN   \n",
       "1      компьютерная мышь           390 2019-12-11 13:18:17   9543.0   \n",
       "2        водонагреватель         18690 2019-12-31 14:45:38  10449.0   \n",
       "3      компьютерная мышь           390                 NaT      NaN   \n",
       "4      компьютерная мышь           390                 NaT      NaN   \n",
       "...                  ...           ...                 ...      ...   \n",
       "70872            колонки          2890                 NaT      NaN   \n",
       "70873  компьютерная мышь           410 2019-10-28 12:27:51   8847.0   \n",
       "70874            колонки          2890 2019-10-28 12:27:51   8847.0   \n",
       "70875  компьютерная мышь           590                 NaT      NaN   \n",
       "70876            колонки          2700                 NaT      NaN   \n",
       "\n",
       "       utm_source utm_medium       utm_campaign  \n",
       "0             NaN        NaN                NaN  \n",
       "1       yandex.ru        cpc    regions_acc_125  \n",
       "2      newsletter      email        spb_acc_244  \n",
       "3             NaN        NaN                NaN  \n",
       "4             NaN        NaN                NaN  \n",
       "...           ...        ...                ...  \n",
       "70872         NaN        NaN                NaN  \n",
       "70873  google.com        cpc  regions_brand_388  \n",
       "70874  google.com        cpc  regions_brand_388  \n",
       "70875         NaN        NaN                NaN  \n",
       "70876         NaN        NaN                NaN  \n",
       "\n",
       "[70877 rows x 12 columns]"
      ]
     },
     "execution_count": 33,
     "metadata": {},
     "output_type": "execute_result"
    }
   ],
   "source": [
    "orders_full"
   ]
  },
  {
   "cell_type": "markdown",
   "metadata": {},
   "source": [
    "Из-за объединения таблиц появились пустые значения\n",
    "\n",
    "Скорее всего, они появились из-за того, что не по каждому пользователю,\n",
    "который совершил заказ, есть информация по каналу его привлечения"
   ]
  },
  {
   "cell_type": "code",
   "execution_count": 34,
   "metadata": {},
   "outputs": [
    {
     "data": {
      "text/plain": [
       "user_id             0\n",
       "order_id            0\n",
       "created_dt          0\n",
       "state               0\n",
       "payment_type        0\n",
       "product_code        0\n",
       "total_amount        0\n",
       "added_dt        33098\n",
       "utm_id          33098\n",
       "utm_source      33098\n",
       "utm_medium      33098\n",
       "utm_campaign    33098\n",
       "dtype: int64"
      ]
     },
     "execution_count": 34,
     "metadata": {},
     "output_type": "execute_result"
    }
   ],
   "source": [
    "orders_full.isna().sum()"
   ]
  },
  {
   "cell_type": "code",
   "execution_count": 35,
   "metadata": {},
   "outputs": [],
   "source": [
    "orders_full.utm_id       = orders_full.utm_id.fillna('Undefined')\n",
    "orders_full.added_dt     = orders_full.added_dt.fillna('Undefined')\n",
    "orders_full.utm_source   = orders_full.utm_source.fillna('Undefined')\n",
    "orders_full.utm_medium   = orders_full.utm_medium.fillna('Undefined')\n",
    "orders_full.utm_campaign = orders_full.utm_campaign.fillna('Undefined')"
   ]
  },
  {
   "cell_type": "code",
   "execution_count": 36,
   "metadata": {
    "scrolled": false
   },
   "outputs": [],
   "source": [
    "# Сохраним в Excel файл\n",
    "orders_full.to_excel('full_data.xlsx', index = False)"
   ]
  },
  {
   "cell_type": "code",
   "execution_count": null,
   "metadata": {},
   "outputs": [],
   "source": []
  }
 ],
 "metadata": {
  "kernelspec": {
   "display_name": "Python 3",
   "language": "python",
   "name": "python3"
  },
  "language_info": {
   "codemirror_mode": {
    "name": "ipython",
    "version": 3
   },
   "file_extension": ".py",
   "mimetype": "text/x-python",
   "name": "python",
   "nbconvert_exporter": "python",
   "pygments_lexer": "ipython3",
   "version": "3.7.3"
  }
 },
 "nbformat": 4,
 "nbformat_minor": 4
}
